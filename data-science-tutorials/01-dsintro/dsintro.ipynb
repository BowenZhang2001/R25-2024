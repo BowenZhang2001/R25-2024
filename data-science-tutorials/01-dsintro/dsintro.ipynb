{
  "cells": [
    {
      "cell_type": "raw",
      "metadata": {},
      "source": [
        "---\n",
        "title: Introduction to Current Population Survey Food Security Supplement\n",
        "author: 'Dr. Roch Nianogo, Bowen Zhang, Dr. Hua Zhou'\n",
        "format:\n",
        "  html:\n",
        "    theme: cosmo\n",
        "    embed-resources: true\n",
        "    number-sections: true\n",
        "    toc: true\n",
        "    toc-depth: 4\n",
        "    toc-location: left\n",
        "    code-fold: false\n",
        "    link-external-icon: true\n",
        "    link-external-newwindow: true\n",
        "knitr:\n",
        "  opts_chunk:\n",
        "    cache: false\n",
        "    echo: true\n",
        "    fig.align: center\n",
        "    message: false\n",
        "comments:\n",
        "  hypothesis: true\n",
        "---"
      ]
    },
    {
      "cell_type": "code",
      "metadata": {},
      "source": [
        "#| code-fold: true\n",
        "#| output: false\n",
        "\n",
        "# setup code: install packages, API keys\n",
        "library(tidyverse)\n",
        "library(tidycensus)\n",
        "census_api_key(\"4cf445b70eabd0b297a45e7f62f52c27ba3b5cae\",\n",
        "               install = TRUE, overwrite = TRUE)\n",
        "Sys.setenv(\"CENSUS_KEY\" = \"4cf445b70eabd0b297a45e7f62f52c27ba3b5cae\")\n",
        "library(censusapi)\n",
        "library(gtsummary)\n",
        "library(knitr)\n",
        "library(tigris)\n",
        "library(maps)\n",
        "library(ggplot2)"
      ],
      "execution_count": null,
      "outputs": []
    },
    {
      "cell_type": "markdown",
      "metadata": {},
      "source": [
        "## Roadmap\n",
        "\n",
        "A typical data science project:\n",
        "\n",
        "<p align=\"center\">\n",
        "\n",
        "<img src=\"./data-science.png\" width=\"80%\"/>\n",
        "\n",
        "</p>\n",
        "\n",
        "### Learning objectives\n",
        "\n",
        "In the next 1.5 days, we learn\n",
        "\n",
        "-   the life cycle of a data science project\n",
        "\n",
        "-   some R ecosystems (tidyverse, tidymodels) for Open Data Science\n",
        "\n",
        "-   basic machine learning\n",
        "\n",
        "-   policy evaluation using double machine learning\n",
        "\n",
        "Dr. Roch Nianogo will lead the second part, from June 25 afternoon to June 26, with in-depth discussions of simulation modeling, causal inference, and linking data science and systems science.\n",
        "\n",
        "### Course materials\n",
        "\n",
        "During the course, you can\n",
        "\n",
        "-   read the static tutorial pages, make comments, and ask questions; or\n",
        "\n",
        "-   interactively run `qmd` codes in RStudio on [Posit Cloud](https://posit.cloud/spaces/522857/join?access_code=jp20j2u42A7Ygue-OICZ2U4S6IWZCnI5GFp0r_N9) (sign up for a free account); or\n",
        "\n",
        "-   interactively run `ipynb` codes in Jupyter Notebook on [Binder](https://mybinder.org/v2/gh/NIH-R25-ModelersAndStoryTellers/binder-sandbox.git/main?urlpath=git-pull?repo=https://github.com/NIH-R25-ModelersAndStoryTellers/2024.git) (can be slow)\n",
        "\n",
        "Adventurous ones can reproduce, improve, and generalize all the examples **on your own computer** by the following steps:\n",
        "\n",
        "-   install [R](https://cran.r-project.org/), [RStudio](https://www.rstudio.com/products/rstudio/download/), and [Quarto](https://quarto.org/docs/get-started/)\n",
        "\n",
        "-   git clone the [course repository](https://github.com/NIH-R25-ModelersAndStoryTellers/2024)\n",
        "\n",
        "-   revise and render the qmd files\n",
        "\n",
        "### Questions, please\n",
        "\n",
        "Please feel free to ask questions and make comments. You can\n",
        "\n",
        "-   use the \"raise hand\" feature (✋) in Zoom\n",
        "\n",
        "-   type your questions in the Zoom chat (💬)\n",
        "\n",
        "-   make comments or ask questions on tutorial pages (need to sign up an account on [hypothes.is](https://web.hypothes.is/))\n",
        "\n",
        "## Data source\n",
        "\n",
        "### Current Population Survey (CPS)\n",
        "\n",
        "::: {style=\"text-align: center;\"}\n",
        "<img src=\"https://www.census.gov/etc.clientlibs/census/clientlibs/census-pattern-library/resources/images/USCENSUS_IDENTITY_SOLO_BLACK_1.5in_R_no_padding.svg\" alt=\"Census Bureau\" width=\"240\"/>\n",
        ":::\n",
        "\n",
        "The [Current Population Survey (CPS)](https://www.census.gov/programs-surveys/cps.html), sponsored jointly by the U.S. Census Bureau and the U.S. Bureau of Labor Statistics (BLS), is the primary source of labor force statistics for the population of the United States.\n",
        "\n",
        "The CPS is one of the oldest, largest, and most well-recognized surveys in the United States. It is immensely important, providing information on many of the things that define us as individuals and as a society – our work, our earnings, and our education.\n",
        "\n",
        "In addition to being the primary source of monthly labor force statistics, the CPS is used to collect data for a variety of other studies that keep the nation informed of the economic and social well-being of its people. This is done by adding a set of supplemental questions to the monthly basic CPS questions. Supplemental inquiries vary month to month and cover a wide variety of topics such as child support, volunteerism, health insurance coverage, school enrollment, and **food security**. A listing and brief description of the CPS supplements are available [here](https://www.census.gov/programs-surveys/cps/about/supplemental-surveys.html).\n",
        "\n",
        "### Food Security Supplement (CPS-FSS)\n",
        "\n",
        "Take the **CPS Food Security Supplement December 2021 Public-Use Microdata File** as an example. The Food Security Supplement was completed for 30,343 interviewed households with 71,571 person records.\n",
        "\n",
        "The microdata file includes data in four general categories:\n",
        "\n",
        "-   Monthly labor force survey data (geographic, demographic, income, employment)\n",
        "-   Food Security Supplement data (household food expenditures, use of food assistance programs, experiences and behaviors related to food security)\n",
        "-   Food security status\n",
        "-   Weighting variables\n",
        "\n",
        "Food Security Supplement Questionnaire includes the following major sections:\n",
        "\n",
        "-   Food Spending\n",
        "-   Minimum Food Spending Needed\n",
        "-   Food Assistance Program Participation\n",
        "-   Food Sufficiency and Food Security\n",
        "-   Ways of Avoiding or Ameliorating Food Deprivation\n",
        "\n",
        "It is worth noting that beginning in 2015 and continuing through 2021, there were changes from previous years in how the Census Bureau processes some variables. Details can be found in the technical documentation, which can be found [here](https://www.census.gov/data/datasets/time-series/demo/cps/cps-supp_cps-repwgt/cps-food-security.html)\n",
        "\n",
        "## Introduction to R\n",
        "\n",
        "### Tidyverse\n",
        "\n",
        "-   [tidyverse](https://www.tidyverse.org/) is a collection of R packages for data ingestion, wrangling, and visualization.\n",
        "\n",
        "::: {style=\"text-align: center;\"}\n",
        "<img src=\"https://hbctraining.github.io/Intro-to-R/img/tidyverse_website.png\" alt=\"Tidyverse\"/>\n",
        ":::\n",
        "\n",
        "As it is difficult to change how fundamental base R structures/functions work, the Tidyverse suite of packages create and use data structures, functions and operators to make working with data more intuitive. The two most basic changes are in the use of pipes and tibbles.\n",
        "\n",
        "-   The lead developer Hadley Wickham won the 2019 *COPSS Presidents’ Award* (the Nobel Prize of Statistics)\n",
        "\n",
        "> for influential work in statistical computing, visualization, graphics, and data analysis; for developing and implementing an impressively comprehensive computational infrastructure for data analysis through R software; for making statistical thinking and computing accessible to large audience; and for enhancing an appreciation for the important role of statistics among data scientists.\n",
        "\n",
        "#### Pipes\n",
        "\n",
        "Stringing together commands in R can be quite daunting. Also, trying to understand code that has many nested functions can be confusing.\n",
        "\n",
        "To make R code more human readable, the Tidyverse tools use the pipe, `%>%`, which was acquired from the **magrittr** package and comes installed automatically with Tidyverse. The pipe allows the output of a previous command to be used as input to another command instead of using nested functions."
      ]
    },
    {
      "cell_type": "code",
      "metadata": {},
      "source": [
        "#| eval: true\n",
        "\n",
        "# A single command\n",
        "sqrt(83)"
      ],
      "execution_count": null,
      "outputs": []
    },
    {
      "cell_type": "code",
      "metadata": {},
      "source": [
        "# Base R method of running more than one command\n",
        "round(sqrt(83), digit = 2)"
      ],
      "execution_count": null,
      "outputs": []
    },
    {
      "cell_type": "code",
      "metadata": {},
      "source": [
        "# Running more than one command with piping\n",
        "sqrt(83) %>% round(digit = 2)"
      ],
      "execution_count": null,
      "outputs": []
    },
    {
      "cell_type": "markdown",
      "metadata": {},
      "source": [
        "The pipe represents a much easier way of writing and deciphering R code, and we will be taking advantage of it for all future activities.\n",
        "\n",
        "::: callout-tip\n",
        "R 4.1.0 introduced a native pipe operator `|>`, which is mostly compatible with the pipe `%>%` offered by the tidyverse package magrittr. For some subtle differences, see this [post](https://www.tidyverse.org/blog/2023/04/base-vs-magrittr-pipe/) by Hadley Wickham.\n",
        ":::"
      ]
    },
    {
      "cell_type": "code",
      "metadata": {},
      "source": [
        "#| eval: true\n",
        "\n",
        "# R base pipe\n",
        "sqrt(83) |> round(digit = 2)"
      ],
      "execution_count": null,
      "outputs": []
    },
    {
      "cell_type": "markdown",
      "metadata": {},
      "source": [
        "#### Tibbles\n",
        "\n",
        "A core component of the tidyverse is the tibble. Tibbles are a modern rework of the standard data.frame, with some internal improvements to make code more reliable. They are data frames, but do not follow all of the same rules. For example, tibbles can have column names that are not normally allowed, such as numbers/symbols.\n",
        "\n",
        "The main differences between tibbles and data.frames relate to printing and subsetting.\n",
        "\n",
        "-   `iris` is a data frame available in base R\n",
        "\n",
        "::: {style=\"text-align: center;\"}\n",
        "<img src=\"https://miro.medium.com/v2/resize:fit:1100/format:webp/1*ZK9_HrpP_lhSzTq9xVJUQw.png\" alt=\"iris\" width=\"500\"/>\n",
        ":::"
      ]
    },
    {
      "cell_type": "code",
      "metadata": {},
      "source": [
        "#| eval: true\n",
        "\n",
        "# By default, R displays ALL rows of a regular data frame!\n",
        "iris"
      ],
      "execution_count": null,
      "outputs": []
    },
    {
      "cell_type": "markdown",
      "metadata": {},
      "source": [
        "-   Convert a regular data frame to tibble, which by default only displays the first 10 rows of data."
      ]
    },
    {
      "cell_type": "code",
      "metadata": {},
      "source": [
        "#| eval: true\n",
        "\n",
        "# Convert iris to a tibble\n",
        "iris_tb <- as_tibble(iris)\n",
        "iris_tb"
      ],
      "execution_count": null,
      "outputs": []
    },
    {
      "cell_type": "code",
      "metadata": {},
      "source": [
        "#| eval: true\n",
        "\n",
        "# If subsetting a single column from a data.frame, R will output a vector\n",
        "iris[, \"Sepal.Length\"]"
      ],
      "execution_count": null,
      "outputs": []
    },
    {
      "cell_type": "code",
      "metadata": {},
      "source": [
        "#| eval: true\n",
        "\n",
        "# If subsetting a single column from a tibble, R will output a tibble\n",
        "iris_tb[, \"Sepal.Length\"]"
      ],
      "execution_count": null,
      "outputs": []
    },
    {
      "cell_type": "markdown",
      "metadata": {},
      "source": [
        "Also note that if you use piping to subset a tibble, then the notation is slightly different, requiring a placeholder `.` prior to the `[ ]` or `$`."
      ]
    },
    {
      "cell_type": "code",
      "metadata": {},
      "source": [
        "#| eval: false\n",
        "\n",
        "# Return a vector\n",
        "iris_tb$Sepal.Length\n",
        "iris_tb[[\"Sepal.Length\"]]\n",
        "iris_tb[[1]]\n",
        "\n",
        "# Return a tibble\n",
        "iris_tb[, \"Sepal.Length\"]\n",
        "iris_tb[, 1]\n",
        "\n",
        "# Use piping\n",
        "iris_tb %>% .$Sepal.Length\n",
        "iris_tb %>% .[, \"Sepal.Length\"]"
      ],
      "execution_count": null,
      "outputs": []
    },
    {
      "cell_type": "markdown",
      "metadata": {},
      "source": [
        "#### dplyr\n",
        "\n",
        "The most useful tool in the tidyverse is dplyr. It’s a Swiss-army knife for data wrangling. dplyr has many handy functions that we recommend incorporating into your analysis.\n",
        "\n",
        "-   Operations on rows:\n",
        "    -   `arrange()` changes the ordering of the rows.\n",
        "    -   `filter()` picks cases based on their values.\n",
        "    -   `distinct()` removes duplicate entries.\n",
        "    -   `slice_*()` selects rows by position.\n",
        "-   Operations on columns:\n",
        "    -   `select()` extracts columns and returns a tibble.\n",
        "    -   `mutate()` adds new variables that are functions of existing variables.\n",
        "    -   `rename()` easily changes the name of a column(s).\n",
        "    -   `pull()` extracts a single column as a vector.\n",
        "-   Grouped operations:\n",
        "    -   `group_by()` aggregates data by one or more variables.\\\n",
        "    -   `summarise()` reduces multiple values down to a single summary.\n",
        "-   `_join()` functions that merge two data frames together, including `inner_join()`, `left_join()`, `right_join()`, and `full_join()`.\n",
        "\n",
        "The [Posit dplyr cheatsheet](https://rstudio.github.io/cheatsheets/data-transformation.pdf) is extremely intuitive and helpful.\n",
        "\n",
        "Some examples of using dplyr functions.\n",
        "\n",
        "-   Filter observations with `Sepal.Length` greater than 5.0, arrange the data by `Sepal.Length` in descending, and create a new column `Sepal.Length_2` that is the square of `Sepal.Length`."
      ]
    },
    {
      "cell_type": "code",
      "metadata": {},
      "source": [
        "#| eval: true\n",
        "\n",
        "iris_tb |>\n",
        "  filter(Sepal.Length > 5.0) |>\n",
        "  arrange(desc(Sepal.Length)) |>\n",
        "  mutate(Sepal.Length_2 = Sepal.Length^2) |>\n",
        "  print()"
      ],
      "execution_count": null,
      "outputs": []
    },
    {
      "cell_type": "markdown",
      "metadata": {},
      "source": [
        "-   Select columns `Species`, and find the distinct values of `Species`"
      ]
    },
    {
      "cell_type": "code",
      "metadata": {},
      "source": [
        "#| eval: true\n",
        "\n",
        "iris_tb |>\n",
        "  select(Species) |>\n",
        "  distinct()"
      ],
      "execution_count": null,
      "outputs": []
    },
    {
      "cell_type": "markdown",
      "metadata": {},
      "source": [
        "-   Count the number of rows in each species"
      ]
    },
    {
      "cell_type": "code",
      "metadata": {},
      "source": [
        "#| eval: true\n",
        "\n",
        "iris_tb |>\n",
        "  group_by(Species) |> \n",
        "  summarize(n = n())"
      ],
      "execution_count": null,
      "outputs": []
    },
    {
      "cell_type": "code",
      "metadata": {},
      "source": [
        "# Shortcut for group_by() |> summarize(n = n())\n",
        "iris_tb |>\n",
        "  count(Species)"
      ],
      "execution_count": null,
      "outputs": []
    },
    {
      "cell_type": "markdown",
      "metadata": {},
      "source": [
        "-   Calculate the mean of `Sepal.Length` for each `Species`"
      ]
    },
    {
      "cell_type": "code",
      "metadata": {},
      "source": [
        "#| eval: true\n",
        "\n",
        "iris_tb |>\n",
        "  group_by(Species) |>\n",
        "  summarize(mean_Sepal_Length = mean(Sepal.Length))"
      ],
      "execution_count": null,
      "outputs": []
    },
    {
      "cell_type": "markdown",
      "metadata": {},
      "source": [
        "-   Find the observation with the maximum `Sepal.Length` for each `Species`"
      ]
    },
    {
      "cell_type": "code",
      "metadata": {},
      "source": [
        "#| eval: true\n",
        "\n",
        "iris_tb |>\n",
        "  group_by(Species) |>\n",
        "  slice_max(Sepal.Length)"
      ],
      "execution_count": null,
      "outputs": []
    },
    {
      "cell_type": "markdown",
      "metadata": {},
      "source": [
        "#### Combine variables (columns)\n",
        "\n",
        "-   Demo tables"
      ]
    },
    {
      "cell_type": "code",
      "metadata": {},
      "source": [
        "#| eval: true\n",
        "\n",
        "(x <- tribble(\n",
        "  ~key, ~val_x,\n",
        "  1, \"x1\",\n",
        "  2, \"x2\",\n",
        "  3, \"x3\"\n",
        "))"
      ],
      "execution_count": null,
      "outputs": []
    },
    {
      "cell_type": "code",
      "metadata": {},
      "source": [
        "#| eval: true\n",
        "\n",
        "(y <- tribble(\n",
        "  ~key, ~val_y,\n",
        "  1, \"y1\",\n",
        "  2, \"y2\",\n",
        "  4, \"y3\"\n",
        "))"
      ],
      "execution_count": null,
      "outputs": []
    },
    {
      "cell_type": "markdown",
      "metadata": {},
      "source": [
        "-   An **inner join** matches pairs of observations whenever their keys are equal:\n",
        "\n",
        "<p align=\"center\">\n",
        "\n",
        "<img src=\"./join-inner.png\" height=\"150\"/>\n",
        "\n",
        "</p>"
      ]
    },
    {
      "cell_type": "code",
      "metadata": {},
      "source": [
        "#| eval: true\n",
        "\n",
        "inner_join(x, y, by = \"key\")"
      ],
      "execution_count": null,
      "outputs": []
    },
    {
      "cell_type": "markdown",
      "metadata": {},
      "source": [
        "-   An **outer join** keeps observations that appear in at least one of the tables.\n",
        "\n",
        "-   Three types of outer joins: **left join**, **right join**, and **full join**.\n",
        "\n",
        "<p align=\"center\">\n",
        "\n",
        "<img src=\"./join-outer.png\" width=\"50%\"/>\n",
        "\n",
        "</p>\n",
        "\n",
        "-   A **left join** keeps all observations in `x`."
      ]
    },
    {
      "cell_type": "code",
      "metadata": {},
      "source": [
        "#| eval: true\n",
        "\n",
        "left_join(x, y, by = \"key\")"
      ],
      "execution_count": null,
      "outputs": []
    },
    {
      "cell_type": "markdown",
      "metadata": {},
      "source": [
        "-   A **right join** keeps all observations in `y`."
      ]
    },
    {
      "cell_type": "code",
      "metadata": {},
      "source": [
        "#| eval: true\n",
        "\n",
        "right_join(x, y, by = \"key\")"
      ],
      "execution_count": null,
      "outputs": []
    },
    {
      "cell_type": "markdown",
      "metadata": {},
      "source": [
        "-   A **full join** keeps all observations in `x` and `y`."
      ]
    },
    {
      "cell_type": "code",
      "metadata": {},
      "source": [
        "#| eval: true\n",
        "\n",
        "full_join(x, y, by = \"key\")"
      ],
      "execution_count": null,
      "outputs": []
    },
    {
      "cell_type": "markdown",
      "metadata": {},
      "source": [
        "-   One table has duplicate keys.\n",
        "\n",
        "<p align=\"center\">\n",
        "\n",
        "<img src=\"./join-one-to-many.png\" height=\"200\"/>\n",
        "\n",
        "</p>"
      ]
    },
    {
      "cell_type": "code",
      "metadata": {},
      "source": [
        "#| eval: true\n",
        "\n",
        "x <- tribble(\n",
        "  ~key, ~val_x,\n",
        "  1, \"x1\",\n",
        "  2, \"x2\",\n",
        "  2, \"x3\",\n",
        "  1, \"x4\"\n",
        ")\n",
        "y <- tribble(\n",
        "  ~key, ~val_y,\n",
        "  1, \"y1\",\n",
        "  2, \"y2\"\n",
        ")\n",
        "left_join(x, y, by = \"key\")"
      ],
      "execution_count": null,
      "outputs": []
    },
    {
      "cell_type": "markdown",
      "metadata": {},
      "source": [
        "-   Both tables have duplicate keys. You get all possible combinations, the Cartesian product:\n",
        "\n",
        "<p align=\"center\">\n",
        "\n",
        "<img src=\"./join-many-to-many.png\" height=\"250\"/>\n",
        "\n",
        "</p>"
      ]
    },
    {
      "cell_type": "code",
      "metadata": {},
      "source": [
        "#| eval: true\n",
        "\n",
        "x <- tribble(\n",
        "  ~key, ~val_x,\n",
        "  1, \"x1\",\n",
        "  2, \"x2\",\n",
        "  2, \"x3\",\n",
        "  3, \"x4\"\n",
        ")\n",
        "y <- tribble(\n",
        "  ~key, ~val_y,\n",
        "  1, \"y1\",\n",
        "  2, \"y2\",\n",
        "  2, \"y3\",\n",
        "  3, \"y4\"\n",
        ")\n",
        "\n",
        "left_join(x, y, by = \"key\")"
      ],
      "execution_count": null,
      "outputs": []
    },
    {
      "cell_type": "markdown",
      "metadata": {},
      "source": [
        "#### Combine cases (rows)\n",
        "\n",
        "-   `semi_join(x, y)` keeps the rows in `x` that have a match in `y`.\n",
        "\n",
        "<p align=\"center\">\n",
        "\n",
        "<img src=\"./join-semi.png\" height=\"200\"/>\n",
        "\n",
        "</p>"
      ]
    },
    {
      "cell_type": "code",
      "metadata": {},
      "source": [
        "#| eval: true\n",
        "\n",
        "x <- tribble(\n",
        "  ~key, ~val_x,\n",
        "  1, \"x1\",\n",
        "  2, \"x2\",\n",
        "  3, \"x3\"\n",
        ")\n",
        "\n",
        "y <- tribble(\n",
        "  ~key, ~val_y,\n",
        "  1, \"y1\",\n",
        "  2, \"y2\",\n",
        "  4, \"y3\"\n",
        ")\n",
        "\n",
        "semi_join(x, y, by = \"key\")"
      ],
      "execution_count": null,
      "outputs": []
    },
    {
      "cell_type": "markdown",
      "metadata": {},
      "source": [
        "-   `anti_join(x, y)` keeps the rows that don’t have a match.\n",
        "\n",
        "<p align=\"center\">\n",
        "\n",
        "<img src=\"./join-anti.png\" height=\"200\"/>\n",
        "\n",
        "</p>"
      ]
    },
    {
      "cell_type": "code",
      "metadata": {},
      "source": [
        "#| eval: true\n",
        "\n",
        "anti_join(x, y, by = \"key\")"
      ],
      "execution_count": null,
      "outputs": []
    },
    {
      "cell_type": "markdown",
      "metadata": {},
      "source": [
        "## Ingest CPS-FSS Data\n",
        "\n",
        "Many datasets such as the Decennial Census since 2000 and the American Community Survey (ACS) are available through the US Census Bureau’s APIs and in turn accessible with [`tidycensus`](https://walker-data.com/tidycensus/) and related tools. However, the CPS-FSS data is not available through the `tidycensus` package, which only focuses on core datasets. Other R packages provide support for the wide range of datasets available from the Census Bureau and other government agencies. `censusapi` package, for example, allows for programmatic access to all US Census Bureau APIs.\n",
        "\n",
        "### Sign up for a Census API key\n",
        "\n",
        "Sign up for a Census API key at <https://api.census.gov/data/key_signup.html> and install the key.\n",
        "\n",
        "```         \n",
        "# Set the Census API key in the environment\n",
        "Sys.setenv(\"CENSUS_KEY\" = \"PUT YOUR KEY HERE\")\n",
        "```\n",
        "\n",
        "### censusapi package\n",
        "\n",
        "[censusapi](https://github.com/hrecht/censusapi) is a lightweight package to get data from the U.S. It uses the same Census API key as `tidycensus`, though references it with the R environment variable `CENSUS_KEY`. If this environment variable is set in a user’s `.Renviron` file, functions in `censusapi` will pick up the key without having to supply it directly.\n",
        "\n",
        "-   `getCensus()`: Retrieve Census data from a given API.\n",
        "-   `listCensusApis()`: Get useful dataset metadata on all available APIs as a data frame.\n",
        "-   `listCensusMetadata()`: Get information about a specific API as a data frame.\n",
        "-   `makeVarlist()`: Use variable metadata to find variables containing a given string.\n",
        "\n",
        "`censusapi`’s core function is `getCensus()`, which translates R code to Census API queries. The `name` argument references the API name; the `censusapi` documentation or the function `listCensusApis()` helps you understand how to format this.\n",
        "\n",
        "To see a current table of every available endpoint, run `listCensusApis()`:"
      ]
    },
    {
      "cell_type": "code",
      "metadata": {},
      "source": [
        "#| eval: true\n",
        "\n",
        "censusapi::listCensusApis() |> \n",
        "  # convert data.frame to tibble\n",
        "  as_tibble() |>\n",
        "  select(title, name, vintage, type, temporal, url)"
      ],
      "execution_count": null,
      "outputs": []
    },
    {
      "cell_type": "markdown",
      "metadata": {},
      "source": [
        "`listCensusApis()` returns a dataframe that includes: title, description, name, vintage, url, dataset type, and other useful fields. Search for the dataset you are interested in.\n",
        "\n",
        "Now we are interested in Food Security Supplement. We can search for the keyword \"Food Security\" in the column `title` of the table above, and see which year of data is available."
      ]
    },
    {
      "cell_type": "code",
      "metadata": {},
      "source": [
        "#| eval: true\n",
        "\n",
        "censusapi::listCensusApis() |>\n",
        "  filter(str_detect(title, \"Food Security\"), vintage >= 2019) |>\n",
        "  select(title, name, vintage, type, description)"
      ],
      "execution_count": null,
      "outputs": []
    },
    {
      "cell_type": "markdown",
      "metadata": {},
      "source": [
        "The example below makes a request to API for the CPS Food Security Supplement December 2021 Public-Use Microdata File. The `name` argument is set to \"cps/foodsec/dec\" and the `vintage` argument is set to 2021. If we are interested in Household Food Security Scale, then for the `vars` argument, we should include the following terms:\n",
        "\n",
        "-   HRHHID: Household ID\n",
        "-   HRHHID2: Household ID (Part 2)\n",
        "-   PERRP: Relationship to Reference Person\n",
        "-   GESTFIPS: State FIPS Code\n",
        "-   GTCO: County Code\n",
        "-   HRFS12M1: Summary Food Security Status, 12-Month\n",
        "    -   1 = Food Secure High or Marginal Food Security\n",
        "    -   2 = Low Food Security\n",
        "    -   3 = Very Low Food Security\n",
        "    -   -1 = Not in Universe (In this variable, not interviewed)\n",
        "    -   -9 = No Response\n",
        "-   HHSUPWGT: Household Supplemental Weight"
      ]
    },
    {
      "cell_type": "code",
      "metadata": {},
      "source": [
        "#| eval: true\n",
        "\n",
        "fss_21_status <- censusapi::getCensus(\n",
        "  name = \"cps/foodsec/dec\",\n",
        "  vintage = 2021,\n",
        "  vars = c(\"HRHHID\", \"HRHHID2\", \"PERRP\",\n",
        "           \"GESTFIPS\", \"GTCO\", \"HRFS12M1\",\n",
        "           \"HHSUPWGT\")\n",
        "  ) |>\n",
        "  as_tibble()\n",
        "\n",
        "fss_21_status"
      ],
      "execution_count": null,
      "outputs": []
    },
    {
      "cell_type": "markdown",
      "metadata": {},
      "source": [
        "Notice that some columns are not in the format we want. For example, **HRFS12M1** (Food Security Status) should be a categorical variable, and we want to convert it to a factor with meaningful labels. Also, **HHSUPWGT** (Household Supplemental Weight) was ingested as a character variable, and we want to convert it to a numeric variable."
      ]
    },
    {
      "cell_type": "code",
      "metadata": {},
      "source": [
        "#| eval: true\n",
        "\n",
        "fss_21_status |>\n",
        "  filter(HRFS12M1 != \"-1\") |>\n",
        "  mutate(HRFS12M1 = factor(HRFS12M1,\n",
        "                           levels = c(\"1\", \"2\", \"3\", \"-9\"),\n",
        "                           labels = c(\"Food Security\",\n",
        "                                      \"Low Food Security\",\n",
        "                                      \"Very Low Food Security\",\n",
        "                                      \"No Response\")),\n",
        "         HHSUPWGT = as.numeric(HHSUPWGT),\n",
        "         PERRP = as.numeric(PERRP),\n",
        "         HRHHID2 = as.character(HRHHID2))"
      ],
      "execution_count": null,
      "outputs": []
    },
    {
      "cell_type": "markdown",
      "metadata": {},
      "source": [
        "In addition to checking the document and encoding labels manually, `listCensusMetadata()` offers a way to get the value labels of specific variables. This can be useful for understanding the meaning of variables and their values."
      ]
    },
    {
      "cell_type": "code",
      "metadata": {},
      "source": [
        "#| eval: true\n",
        "\n",
        "HRFS12M1_lb <- censusapi::listCensusMetadata(name = \"cps/foodsec/dec\",\n",
        "                                             vintage = 2021,\n",
        "                                             type = \"values\",\n",
        "                                             variable = \"HRFS12M1\")\n",
        "\n",
        "HRFS12M1_lb"
      ],
      "execution_count": null,
      "outputs": []
    },
    {
      "cell_type": "markdown",
      "metadata": {},
      "source": [
        "Therefore, we can use the following code to convert the variable `HRFS12M1` to a factor with meaningful labels."
      ]
    },
    {
      "cell_type": "code",
      "metadata": {},
      "source": [
        "#| eval: true\n",
        "\n",
        "fss_21_status <- fss_21_status |>\n",
        "  filter(HRFS12M1 != \"-1\") |>\n",
        "  mutate(HRFS12M1 = factor(HRFS12M1,\n",
        "                           levels = HRFS12M1_lb$code,\n",
        "                           labels = HRFS12M1_lb$label),\n",
        "         HHSUPWGT = as.numeric(HHSUPWGT),\n",
        "         PERRP = as.numeric(PERRP),\n",
        "         HRHHID2 = as.character(HRHHID2))\n",
        "  \n",
        "fss_21_status"
      ],
      "execution_count": null,
      "outputs": []
    },
    {
      "cell_type": "markdown",
      "metadata": {},
      "source": [
        "## Constructing household characteristics from person records\n",
        "\n",
        "To compute some household characteristics (such as household size, presence of children, or presence of elderly members), it is necessary to identify the records of all persons in the same household. Households within the December CPS-FSS are uniquely and completely identified by two household identifiers in combination, **HRHHID** and **HRHHID**. Characteristics of the household reference person can be assigned from the person record with **PERRP** 40 or 41, which will always be the record with the lowest-numbered PERRP in the household.\n",
        "\n",
        "**HRFS12M1** (Summary Food Security Status, 12-Month) is one of the household characteristics. This is the variable used for most food security statistics in USDA’s annual food security report series. In order to compute the prevalence of food insecurity, we need to aggregate the food security status of all persons in the same household. `tbl_summary()` in the `gtsummary` package can generate beautiful summary tables."
      ]
    },
    {
      "cell_type": "code",
      "metadata": {},
      "source": [
        "#| eval: true\n",
        "\n",
        "fss_21_status <- fss_21_status |>\n",
        "  # Filter observations with PERRP 40 or 41 (reference person in the household) \n",
        "  filter(PERRP %in% c(40, 41)) |>\n",
        "  # Arrange by PERRP\n",
        "  arrange(PERRP) |>\n",
        "  # Keep the record with the lowest-numbered PERRP in the household\n",
        "  slice_head(by = c(HRHHID, HRHHID2), n = 1)\n",
        "\n",
        "fss_21_status"
      ],
      "execution_count": null,
      "outputs": []
    },
    {
      "cell_type": "code",
      "metadata": {},
      "source": [
        "# Display number and proportion of households in different food security status\n",
        "fss_21_status |>\n",
        "  select(HRFS12M1) |>\n",
        "  gtsummary::tbl_summary()"
      ],
      "execution_count": null,
      "outputs": []
    },
    {
      "cell_type": "markdown",
      "metadata": {},
      "source": [
        "Notice that there are 27,357 + 1,844 + 1,093 + 49 = 30,343 households who attended the interview for Food Security Supplement in 2021, which matches the number in the technical documentation.\n",
        "\n",
        "The CPS is a complex probability sample, and interviewed households, as well as persons in those households, are assigned weights so that the full interviewed sample represents the total national non-institutionalized civilian population. Initial weights are assigned based on probability of selection into the sample, and weights are then adjusted iteratively to match population controls for selected demographic characteristics at State and national levels. There are two sets of household and person weights in this data file: (1) labor force survey weights, and (2) Food Security Supplement weights.\n",
        "\n",
        "We can use `makeVarlist()` function in `censusapi` package to get the list of variables in the dataset. In addition to the description and the type of each variable, we can also check column **suggested_weight** to see which weight should be used for the analysis."
      ]
    },
    {
      "cell_type": "code",
      "metadata": {},
      "source": [
        "#| eval: true\n",
        "\n",
        "censusapi::makeVarlist(\n",
        "  name = \"cps/foodsec/dec\",\n",
        "  vintage = 2021,\n",
        "  find = \"\",\n",
        "  output = \"dataframe\"\n",
        "  ) |>\n",
        "  as_tibble() |>\n",
        "  filter(name %in% c(\"HRHHID\", \"HRHHID2\", \"PERRP\",\n",
        "                     \"GESTFIPS\", \"HRFS12M1\", \"HHSUPWGT\")) |>\n",
        "  select(-c(concept, group, predicateOnly))"
      ],
      "execution_count": null,
      "outputs": []
    },
    {
      "cell_type": "markdown",
      "metadata": {},
      "source": [
        "Now we are interested in how much percentage of households with low food security and very low food security in 2021.\n",
        "\n",
        "-   Identify the variables needed:\n",
        "\n",
        "    HRFS12M1: Summary Food Security Status, 12-Month\n",
        "\n",
        "    HRFS12M1 = 2 OR HRFS12M1 = 3 (Low Food Security OR Very Low Food Security)\n",
        "\n",
        "-   Identify the statistical weight needed:\n",
        "\n",
        "    HHSUPWGT: Household Weight for Supplement Household\n",
        "\n",
        "-   Perform the calculation:\n",
        "\n",
        "    The rate is given by\n",
        "\n",
        "    $$\n",
        "    \\text{Rate} = \\frac{\\sum_i w_i \\cdot L_i}{\\sum_i w_i \\cdot H_i} \\times 100\\%\n",
        "    $$\n",
        "\n",
        "    where $L_i$ is an indicator variable that equals 1 if household $i$ is in low food security or very low food security, and 0 otherwise; $H_i$ is an indicator variable that equals 1 if household $i$ attended the interview for Food Security Supplement and had a response to this question, and 0 otherwise; and $w_i$ is the weight of household $i$."
      ]
    },
    {
      "cell_type": "code",
      "metadata": {},
      "source": [
        "#| eval: true\n",
        "\n",
        "fss_21_status <- fss_21_status |>\n",
        "  mutate(HRFS12M1_low = ifelse(HRFS12M1 %in% c(\"Low Food Security\",\n",
        "                                               \"Very Low Food Security\"),\n",
        "                               1, 0) * HHSUPWGT,\n",
        "         HRFS12M1_res = ifelse(HRFS12M1 == \"No Response\", 0, 1) * HHSUPWGT\n",
        "  )\n",
        "\n",
        "low_food_security_rate <-\n",
        "  sum(fss_21_status$HRFS12M1_low) / sum(fss_21_status$HRFS12M1_res) * 100\n",
        "\n",
        "low_food_security_rate"
      ],
      "execution_count": null,
      "outputs": []
    },
    {
      "cell_type": "markdown",
      "metadata": {},
      "source": [
        "The percentage of households with low food security or very low food security in 2021 is 10.23%. We can verify this result by comparing this number to the Economic Research Report [Household Food Security in the United States in 2021](https://www.ers.usda.gov/webdocs/publications/104656/err-309.pdf?v=7855.7) Figure 1.\n",
        "\n",
        "Since we have already computed the rate of low food security in 2021. We can further investigate the rate of low food security in each state.\n",
        "\n",
        "We first need to match the FIPS code to the state names using `fips_codes()` function in `tigris` package."
      ]
    },
    {
      "cell_type": "code",
      "metadata": {},
      "source": [
        "#| eval: true\n",
        "\n",
        "# Get the state names\n",
        "state_names <- tigris::fips_codes |>\n",
        "  select(state, state_code, state_name) |>\n",
        "  distinct() |>\n",
        "  as_tibble()\n",
        "\n",
        "state_names"
      ],
      "execution_count": null,
      "outputs": []
    },
    {
      "cell_type": "markdown",
      "metadata": {},
      "source": [
        "Now we can compute the rate of low food security in each state."
      ]
    },
    {
      "cell_type": "code",
      "metadata": {},
      "source": [
        "#| eval: true\n",
        "\n",
        "fss_21_status_state <- fss_21_status |>\n",
        "  \n",
        "  # Group by state FIPS code and calculate the rate by state\n",
        "  group_by(GESTFIPS) |>\n",
        "  summarize(HRFS12M1_low = sum(HRFS12M1_low),\n",
        "            HRFS12M1_res = sum(HRFS12M1_res)) |>\n",
        "  \n",
        "  # Notice that state_code is a two digit number\n",
        "  # But in fss_21_status, it is single digit if the state code is less than 10\n",
        "  mutate(GESTFIPS = ifelse(as.numeric(GESTFIPS) < 10,\n",
        "                           paste0(\"0\", GESTFIPS),\n",
        "                           as.character(GESTFIPS))) |>\n",
        "  \n",
        "  # Left join with state names\n",
        "  left_join(state_names, by = c(\"GESTFIPS\" = \"state_code\")) |>\n",
        "  mutate(low_food_security_rate = HRFS12M1_low / HRFS12M1_res * 100,\n",
        "         state_name = str_to_lower(state_name))"
      ],
      "execution_count": null,
      "outputs": []
    },
    {
      "cell_type": "markdown",
      "metadata": {},
      "source": [
        "Then we can visualize the rate of low food security in each state."
      ]
    },
    {
      "cell_type": "code",
      "metadata": {},
      "source": [
        "#| eval: true\n",
        "\n",
        "us_states <- ggplot2::map_data(\"state\")\n",
        "\n",
        "us_states <- merge(us_states, fss_21_status_state, by.x = \"region\",\n",
        "                   by.y = \"state_name\", all.x = TRUE)\n",
        "\n",
        "ggplot(us_states, aes(x = long, y = lat, group = group,\n",
        "                      fill = low_food_security_rate)) +\n",
        "  geom_polygon(color = \"black\") +\n",
        "  scale_fill_gradient(low = \"lightblue\", high = \"darkblue\",\n",
        "                      name = \"Households in Low Food Security (%)\") +\n",
        "  labs(title = \"Percentage of Households in Low Food Security by State\") +\n",
        "  theme_minimal() +\n",
        "  theme(panel.grid = element_blank(),\n",
        "        axis.text = element_blank(),\n",
        "        axis.title = element_blank(),\n",
        "        legend.position = \"bottom\") +\n",
        "  coord_fixed(ratio = 1.5)"
      ],
      "execution_count": null,
      "outputs": []
    }
  ],
  "metadata": {
    "kernelspec": {
      "name": "ir43",
      "language": "R",
      "display_name": "R 4.3.2"
    }
  },
  "nbformat": 4,
  "nbformat_minor": 4
}